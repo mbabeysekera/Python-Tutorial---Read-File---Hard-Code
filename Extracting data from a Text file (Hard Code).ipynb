{
 "cells": [
  {
   "cell_type": "markdown",
   "metadata": {},
   "source": [
    "Here I have discussed few things related to reading of data files. \n",
    "\n",
    "In this case mainly focused on the hard coding techniques for reading text files. But this method can be also used for \n",
    "reading of CSV files too.\n",
    "\n",
    "Try to play around the code and understand how to use this way of data manipulations.\n",
    "\n",
    "This is not the most straightforward way to deal with. But as a beginner this method will helps you to play around in Python.\n",
    "\n",
    "Thank You !!!"
   ]
  },
  {
   "cell_type": "code",
   "execution_count": 1,
   "metadata": {},
   "outputs": [],
   "source": [
    "import os # Import OS module"
   ]
  },
  {
   "cell_type": "code",
   "execution_count": 2,
   "metadata": {},
   "outputs": [
    {
     "name": "stdout",
     "output_type": "stream",
     "text": [
      "C:\\Users\\Buddhika Abeysekera\\Desktop\\Jupyter\n"
     ]
    }
   ],
   "source": [
    "cur_dir = os.getcwd() # get the current path\n",
    "print(cur_dir)"
   ]
  },
  {
   "cell_type": "code",
   "execution_count": 3,
   "metadata": {},
   "outputs": [
    {
     "name": "stdout",
     "output_type": "stream",
     "text": [
      "C:\\Users\\Buddhika Abeysekera\\Desktop\\Jupyter\\temperature.txt\n"
     ]
    }
   ],
   "source": [
    "path = os.path.join(cur_dir, 'temperature.txt') # create the path for the data file\n",
    "print(path)"
   ]
  },
  {
   "cell_type": "code",
   "execution_count": 4,
   "metadata": {},
   "outputs": [],
   "source": [
    "data_file = open(path, 'r') # open the file as a readable format"
   ]
  },
  {
   "cell_type": "code",
   "execution_count": 7,
   "metadata": {},
   "outputs": [
    {
     "data": {
      "text/plain": [
       "'Altitude\\tTemperature(C)\\n0\\t15\\n2\\t2\\n4\\t-11\\n6\\t-24\\n8\\t-37\\n10\\t-50\\n12 \\t-57\\n14 \\t-57\\n16 \\t-57\\n18 \\t-57\\n20 \\t-57\\n22 \\t-57\\n24\\t-57\\n26 \\t-51\\n28 \\t-49\\n30 \\t-47\\n32 \\t-45\\n34 \\t-39\\n36 \\t-34\\n38 \\t-28\\n40 \\t-23'"
      ]
     },
     "execution_count": 7,
     "metadata": {},
     "output_type": "execute_result"
    }
   ],
   "source": [
    "data_file.read() # read the file "
   ]
  },
  {
   "cell_type": "markdown",
   "metadata": {},
   "source": [
    "Here you see there are some unwanted characters (like \\t, \\n) in the above list. "
   ]
  },
  {
   "cell_type": "code",
   "execution_count": 8,
   "metadata": {},
   "outputs": [
    {
     "data": {
      "text/plain": [
       "''"
      ]
     },
     "execution_count": 8,
     "metadata": {},
     "output_type": "execute_result"
    }
   ],
   "source": [
    "data_file.read()"
   ]
  },
  {
   "cell_type": "markdown",
   "metadata": {},
   "source": [
    "And, as you see in the above cell, if you try to read the same file again then it will return an empty list. \n",
    "The reason is after you read the file once, the curser come to the end of the file. when you try to read it again,\n",
    "it will return an empty list because there is nothing to read any more.\n",
    "\n",
    "Now let's try to get rid of those problems..."
   ]
  },
  {
   "cell_type": "code",
   "execution_count": 9,
   "metadata": {},
   "outputs": [],
   "source": [
    "data_file.close() # first we close the opened file."
   ]
  },
  {
   "cell_type": "code",
   "execution_count": 15,
   "metadata": {},
   "outputs": [],
   "source": [
    "data_file = open(path, 'r') # read the file again"
   ]
  },
  {
   "cell_type": "code",
   "execution_count": 16,
   "metadata": {},
   "outputs": [
    {
     "name": "stdout",
     "output_type": "stream",
     "text": [
      "['Altitude\\tTemperature(C)', '0\\t15', '2\\t2', '4\\t-11', '6\\t-24', '8\\t-37', '10\\t-50', '12 \\t-57', '14 \\t-57', '16 \\t-57', '18 \\t-57', '20 \\t-57', '22 \\t-57', '24\\t-57', '26 \\t-51', '28 \\t-49', '30 \\t-47', '32 \\t-45', '34 \\t-39', '36 \\t-34', '38 \\t-28', '40 \\t-23']\n"
     ]
    }
   ],
   "source": [
    "data_list = [] # make another list to store the new re-formed data\n",
    "data_list = data_file.read().splitlines() # here the 'splitlines()' function removes the '\\n' characters\n",
    "print(data_list)"
   ]
  },
  {
   "cell_type": "markdown",
   "metadata": {},
   "source": [
    "But still the above list is not in a proper manner.\n",
    "\n",
    "let's try to re-arrange it as a table "
   ]
  },
  {
   "cell_type": "code",
   "execution_count": 17,
   "metadata": {},
   "outputs": [],
   "source": [
    "data_as_table = [] # create a another python list\n",
    "for data in data_list: # itterate through the previous list to make data separations\n",
    "    data_as_table.append(data.split('\\t')) # here each data is sepatated from '\\t' character and\n",
    "                                           # 'split()' returns a list of data separated by \\t"
   ]
  },
  {
   "cell_type": "code",
   "execution_count": 18,
   "metadata": {},
   "outputs": [
    {
     "name": "stdout",
     "output_type": "stream",
     "text": [
      "[['Altitude', 'Temperature(C)'], ['0', '15'], ['2', '2'], ['4', '-11'], ['6', '-24'], ['8', '-37'], ['10', '-50'], ['12 ', '-57'], ['14 ', '-57'], ['16 ', '-57'], ['18 ', '-57'], ['20 ', '-57'], ['22 ', '-57'], ['24', '-57'], ['26 ', '-51'], ['28 ', '-49'], ['30 ', '-47'], ['32 ', '-45'], ['34 ', '-39'], ['36 ', '-34'], ['38 ', '-28'], ['40 ', '-23']]\n"
     ]
    }
   ],
   "source": [
    "print(data_as_table)"
   ]
  },
  {
   "cell_type": "code",
   "execution_count": null,
   "metadata": {},
   "outputs": [],
   "source": []
  }
 ],
 "metadata": {
  "kernelspec": {
   "display_name": "Python 3",
   "language": "python",
   "name": "python3"
  },
  "language_info": {
   "codemirror_mode": {
    "name": "ipython",
    "version": 3
   },
   "file_extension": ".py",
   "mimetype": "text/x-python",
   "name": "python",
   "nbconvert_exporter": "python",
   "pygments_lexer": "ipython3",
   "version": "3.7.1"
  }
 },
 "nbformat": 4,
 "nbformat_minor": 2
}
